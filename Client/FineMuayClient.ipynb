{
 "cells": [
  {
   "cell_type": "code",
   "execution_count": 3,
   "id": "031d0cf1",
   "metadata": {},
   "outputs": [],
   "source": [
    "#FineMuay Client\n",
    "#2023  Made by Camilo Lozano\n",
    "###Install the following libs\n",
    "#!pip install imutils imagezmq\n",
    "#!pip install pyngrok\n",
    "#!pip install opencv-python\n",
    "#!pip install opencv_jupyter_ui"
   ]
  },
  {
   "cell_type": "markdown",
   "id": "b2bd1d18",
   "metadata": {},
   "source": [
    "This client is part of [FineMuay](https://github.com/archoldkami/FineMuay) project \n",
    "\n",
    "This proyect uses [NGROK](https://ngrok.com/) and [imagezmq](https://github.com/jeffbass/imagezmq)\n",
    "\n",
    "Create a NGROK account to send images to a public internet address\n",
    "\n",
    "Set the parameters in the next cell."
   ]
  },
  {
   "cell_type": "code",
   "execution_count": 5,
   "id": "7ea3432d",
   "metadata": {},
   "outputs": [],
   "source": [
    "#the NGROK TOKEN here:\n",
    "NGROK_AUTH_TOKEN = \"\"\n",
    "#set the FPS here, 10-16 range is a realistic measure at 640x480 resolution:\n",
    "FPS =16\n",
    "# set SRC= 0 for webcam source\n",
    "SRC = 0\n",
    "#set the jpg compression\n",
    "jpg_compression =80"
   ]
  },
  {
   "cell_type": "code",
   "execution_count": 6,
   "id": "ba9b7f12",
   "metadata": {},
   "outputs": [
    {
     "name": "stdout",
     "output_type": "stream",
     "text": [
      "Set this address on Colab or your server: tcp://4.tcp.ngrok.io:11145\n",
      "Sending at 640x480 --  Started at:2024-01-17 11:42:41.008393\n",
      "Click the 'q' key to quit\n"
     ]
    },
    {
     "data": {
      "text/plain": [
       "'sending at FPS:27.78 Frame:299'"
      ]
     },
     "metadata": {},
     "output_type": "display_data"
    },
    {
     "data": {
      "application/vnd.jupyter.widget-view+json": {
       "model_id": "c837c5fb622a48a08ad287cb0c19ab3c",
       "version_major": 2,
       "version_minor": 0
      },
      "text/plain": [
       "HBox(children=(Button(button_style='danger', description='Stop', style=ButtonStyle()), HBox(children=(Label(va…"
      ]
     },
     "metadata": {},
     "output_type": "display_data"
    },
    {
     "name": "stdout",
     "output_type": "stream",
     "text": [
      "Done !!!  2024-01-17 11:42:54.839221\n"
     ]
    }
   ],
   "source": [
    "#FineMuay client uses imagezmp pub/sub mode.\n",
    "\n",
    "import sys\n",
    "import time\n",
    "import numpy as np\n",
    "import cv2\n",
    "import imagezmq\n",
    "import imutils\n",
    "from imutils.video import VideoStream\n",
    "import zmq\n",
    "import ipywidgets as widgets\n",
    "from IPython.display import display\n",
    "import traceback\n",
    "import opencv_jupyter_ui as jcv2\n",
    "from pyngrok import ngrok\n",
    "import datetime\n",
    "\n",
    "ngrok.set_auth_token(NGROK_AUTH_TOKEN)\n",
    "ngrok_tunnel = ngrok.connect(5555, \"tcp\")\n",
    "print(\"Set this address on Colab or your server:\", ngrok_tunnel.public_url)\n",
    "print(\"Sending at 640x480 --  Started at:\" + str(datetime.datetime.now()))\n",
    "print(\"Click the 'q' key to quit\")\n",
    "display_handle=display(\"Warming\", display_id=True)\n",
    "rpi_name = \"finemuay_test\"\n",
    "res_dim = 640,480\n",
    "picam = VideoStream(src=SRC,resolution=res_dim,framerate=FPS).start()\n",
    "time.sleep(2.0)  # allow camera sensor to warm up\n",
    "#set the client as pub/sub sender\n",
    "sender = imagezmq.ImageSender(connect_to='tcp://*:5555', REQ_REP=False)\n",
    "jcv2.setKeys (['q','space'])\n",
    "i =0\n",
    "start_time = time.time()\n",
    "wait_time=round((1/FPS)*825,0)\n",
    "try:\n",
    "    while True:\n",
    "        image = picam.read()\n",
    "        i+=1\n",
    "        image = imutils.resize(image, width=640)\n",
    "        ret_code, jpg_buffer = cv2.imencode(\".jpg\", image, [int(cv2.IMWRITE_JPEG_QUALITY), jpg_compression]) \n",
    "        # send to the message queue server\n",
    "        sender.send_jpg(rpi_name + str(i), jpg_buffer)\n",
    "        display_handle.update(\"sending at FPS:{} Frame:{}\".format(round(1.0 / (time.time() - start_time),2),i))\n",
    "        start_time = time.time()\n",
    "        #this waits enough time to complete the required FPS\n",
    "        if jcv2.waitKey(wait_time)==ord('q'):\n",
    "            break\n",
    "\n",
    "except Exception as ex:\n",
    "        print('Python error with no Exception handler:')\n",
    "        print('Traceback error:', ex)\n",
    "        traceback.print_exc()\n",
    "finally:\n",
    "    picam.stop()\n",
    "    picam=None\n",
    "    sender.close()\n",
    "    sender=None\n",
    "    ngrok.kill()\n",
    "    jcv2.destroyAllWindows()\n",
    "    print(\"Done !!!  \" + str(datetime.datetime.now()))\n",
    "\n"
   ]
  },
  {
   "cell_type": "code",
   "execution_count": null,
   "id": "13164fb6",
   "metadata": {},
   "outputs": [],
   "source": []
  }
 ],
 "metadata": {
  "kernelspec": {
   "display_name": "Python 3 (ipykernel)",
   "language": "python",
   "name": "python3"
  },
  "language_info": {
   "codemirror_mode": {
    "name": "ipython",
    "version": 3
   },
   "file_extension": ".py",
   "mimetype": "text/x-python",
   "name": "python",
   "nbconvert_exporter": "python",
   "pygments_lexer": "ipython3",
   "version": "3.11.5"
  }
 },
 "nbformat": 4,
 "nbformat_minor": 5
}
